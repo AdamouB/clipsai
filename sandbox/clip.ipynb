{
 "cells": [
  {
   "cell_type": "code",
   "execution_count": 4,
   "metadata": {},
   "outputs": [
    {
     "name": "stdout",
     "output_type": "stream",
     "text": [
      "The autoreload extension is already loaded. To reload it, use:\n",
      "  %reload_ext autoreload\n"
     ]
    }
   ],
   "source": [
    "%load_ext autoreload\n",
    "%autoreload 2"
   ]
  },
  {
   "cell_type": "code",
   "execution_count": 5,
   "metadata": {},
   "outputs": [
    {
     "name": "stdout",
     "output_type": "stream",
     "text": [
      "/Users/armeltalla/Documents/CAI/SDKs/clipsai/data\n",
      "['/Users/armeltalla/Documents/CAI/SDKs/clipsai/clipsai', '/Users/armeltalla/Documents/CAI/SDKs/clipsai', '/Users/armeltalla/Documents/CAI/SDKs/clipsai/sandbox', '/opt/homebrew/Cellar/python@3.11/3.11.4_1/Frameworks/Python.framework/Versions/3.11/lib/python311.zip', '/opt/homebrew/Cellar/python@3.11/3.11.4_1/Frameworks/Python.framework/Versions/3.11/lib/python3.11', '/opt/homebrew/Cellar/python@3.11/3.11.4_1/Frameworks/Python.framework/Versions/3.11/lib/python3.11/lib-dynload', '', '/Users/armeltalla/Documents/CAI/SDKs/clipsai/env/lib/python3.11/site-packages']\n"
     ]
    }
   ],
   "source": [
    "import sys, os\n",
    "\n",
    "DATA_PATH = os.path.abspath(os.path.join(\"..\", \"data\"))\n",
    "print(DATA_PATH)\n",
    "\n",
    "ROOT_PATH = os.path.abspath(os.path.join(\"..\"))\n",
    "SRC_PATH = os.path.join(ROOT_PATH, \"clipsai\")\n",
    "sys.path.insert(0, SRC_PATH)\n",
    "print(sys.path)"
   ]
  },
  {
   "cell_type": "markdown",
   "metadata": {},
   "source": [
    "# Transcribe"
   ]
  },
  {
   "cell_type": "code",
   "execution_count": 7,
   "metadata": {},
   "outputs": [],
   "source": [
    "from transcribe.transcribe import transcribe"
   ]
  },
  {
   "cell_type": "code",
   "execution_count": 8,
   "metadata": {},
   "outputs": [
    {
     "name": "stdout",
     "output_type": "stream",
     "text": [
      "/Users/armeltalla/Documents/CAI/SDKs/clipsai/data/test.mp4\n"
     ]
    }
   ],
   "source": [
    "video_file_path = os.path.join(DATA_PATH, \"test.mp4\")\n",
    "print(video_file_path)"
   ]
  },
  {
   "cell_type": "code",
   "execution_count": 9,
   "metadata": {},
   "outputs": [
    {
     "name": "stdout",
     "output_type": "stream",
     "text": [
      "No language specified, language will be first be detected for each audio file (increases inference time).\n"
     ]
    },
    {
     "name": "stderr",
     "output_type": "stream",
     "text": [
      "Lightning automatically upgraded your loaded checkpoint from v1.5.4 to v2.1.3. To apply the upgrade to your files permanently, run `python -m pytorch_lightning.utilities.upgrade_checkpoint ../../../../../.cache/torch/whisperx-vad-segmentation.bin`\n"
     ]
    },
    {
     "name": "stdout",
     "output_type": "stream",
     "text": [
      "Model was trained with pyannote.audio 0.0.1, yours is 3.1.0. Bad things might happen unless you revert pyannote.audio to 0.x.\n",
      "Model was trained with torch 1.10.0+cu102, yours is 2.1.2. Bad things might happen unless you revert torch to 1.x.\n",
      "Detected language: en (0.99) in first 30s of audio...\n"
     ]
    }
   ],
   "source": [
    "transcription = transcribe(video_file_path)"
   ]
  },
  {
   "cell_type": "code",
   "execution_count": 10,
   "metadata": {},
   "outputs": [
    {
     "name": "stdout",
     "output_type": "stream",
     "text": [
      "And if you do that, you've met that easy goal, and now you're in line with yourself, and that's going to reinforce you further. Exactly, exactly. And then when you also, there's another thing, I don't think you really hit a home on this to track your habits. Yeah, I almost forgot about that actually. I feel, you know, Ben, before we started this episode, Ben was like, dude, like, he even lasts episode. He just can probably borrow, like, tracking or habit start, like, when I, I was like, oh, like, when we say track habit, like, it doesn't mean the ironic thing to me about tracking habits is that it, it self is a habit. Like, so it's like, you have to start the habit of tracking your habit before you can actually really consistently track habit.\n"
     ]
    }
   ],
   "source": [
    "print(transcription)"
   ]
  },
  {
   "cell_type": "markdown",
   "metadata": {},
   "source": [
    "# Clip"
   ]
  },
  {
   "cell_type": "code",
   "execution_count": 11,
   "metadata": {},
   "outputs": [],
   "source": [
    "from clip.clip import clip"
   ]
  },
  {
   "cell_type": "code",
   "execution_count": 12,
   "metadata": {},
   "outputs": [],
   "source": [
    "clips = clip(transcription)"
   ]
  },
  {
   "cell_type": "code",
   "execution_count": 13,
   "metadata": {},
   "outputs": [
    {
     "name": "stdout",
     "output_type": "stream",
     "text": [
      "Clip(start_time=0, end_time=38.856, start_char=0, end_char=753)\n"
     ]
    }
   ],
   "source": [
    "for clip in clips:\n",
    "    print(clip)"
   ]
  }
 ],
 "metadata": {
  "kernelspec": {
   "display_name": "env",
   "language": "python",
   "name": "python3"
  },
  "language_info": {
   "codemirror_mode": {
    "name": "ipython",
    "version": 3
   },
   "file_extension": ".py",
   "mimetype": "text/x-python",
   "name": "python",
   "nbconvert_exporter": "python",
   "pygments_lexer": "ipython3",
   "version": "3.11.4"
  }
 },
 "nbformat": 4,
 "nbformat_minor": 2
}
