{
 "cells": [
  {
   "cell_type": "code",
   "execution_count": 60,
   "metadata": {},
   "outputs": [
    {
     "name": "stdout",
     "output_type": "stream",
     "text": [
      "The autoreload extension is already loaded. To reload it, use:\n",
      "  %reload_ext autoreload\n"
     ]
    }
   ],
   "source": [
    "%load_ext autoreload\n",
    "%autoreload 2"
   ]
  },
  {
   "cell_type": "code",
   "execution_count": 61,
   "metadata": {},
   "outputs": [],
   "source": [
    "import sys, os\n",
    "import logging, socket\n",
    "sys.path.append('/Users/johannramirez/ClipsAI/opensource/clipsai/')\n",
    "\n",
    "root_path = os.path.abspath(os.path.join(\"..\", \"..\", \"..\"))\n",
    "sys.path.append(root_path)\n"
   ]
  },
  {
   "cell_type": "code",
   "execution_count": 71,
   "metadata": {},
   "outputs": [
    {
     "name": "stdout",
     "output_type": "stream",
     "text": [
      "/Users/johannramirez/ClipsAI/opensource/clipsai/clipsai/tests\n"
     ]
    }
   ],
   "source": [
    "import sys, os\n",
    "\n",
    "SANDBOX_PATH = os.path.abspath(os.path.join(\".\"))\n",
    "\n",
    "ROOT_PATH = os.path.abspath(os.path.join(\"..\", \"..\"))\n",
    "SRC_PATH = os.path.join(ROOT_PATH, \"clipsai\")\n",
    "sys.path.insert(0, SRC_PATH)\n",
    "# print(sys.path)\n",
    "print(SANDBOX_PATH)"
   ]
  },
  {
   "cell_type": "code",
   "execution_count": 51,
   "metadata": {},
   "outputs": [],
   "source": [
    "logger = logging.getLogger()\n",
    "fhandler = logging.FileHandler(filename=\"transcribe.log\", mode=\"w\")\n",
    "format_str = f\"[%(asctime)s {socket.gethostname()}] %(filename)s:%(funcName)s:%(lineno)s - %(levelname)s: %(message)s\"\n",
    "formatter = logging.Formatter(format_str)\n",
    "fhandler.setFormatter(formatter)\n",
    "logger.addHandler(fhandler)\n",
    "logger.setLevel(logging.ERROR)"
   ]
  },
  {
   "cell_type": "code",
   "execution_count": 75,
   "metadata": {},
   "outputs": [
    {
     "ename": "ImportError",
     "evalue": "attempted relative import beyond top-level package",
     "output_type": "error",
     "traceback": [
      "\u001b[0;31m---------------------------------------------------------------------------\u001b[0m",
      "\u001b[0;31mImportError\u001b[0m                               Traceback (most recent call last)",
      "Cell \u001b[0;32mIn[75], line 1\u001b[0m\n\u001b[0;32m----> 1\u001b[0m \u001b[38;5;28;01mfrom\u001b[39;00m \u001b[38;5;21;01mtranscribe\u001b[39;00m\u001b[38;5;21;01m.\u001b[39;00m\u001b[38;5;21;01mtranscribe\u001b[39;00m \u001b[38;5;28;01mimport\u001b[39;00m transcribe\n\u001b[1;32m      5\u001b[0m \u001b[38;5;66;03m# from clipsai.clipsai.transcribe.whisperx_transcription import WhisperXTranscription\u001b[39;00m\n\u001b[1;32m      6\u001b[0m \u001b[38;5;66;03m# from clipsai.transcribe.input_validator import InputValidator\u001b[39;00m\n\u001b[1;32m      7\u001b[0m \u001b[38;5;66;03m# from clipsai.clipsai.transcribe.transcribe import transcribe\u001b[39;00m\n\u001b[1;32m      8\u001b[0m \u001b[38;5;66;03m# from transcribe.transcribe import transcribe\u001b[39;00m\n\u001b[1;32m      9\u001b[0m \u001b[38;5;66;03m#try redoing venv and manual import\u001b[39;00m\n",
      "File \u001b[0;32m~/ClipsAI/opensource/clipsai/clipsai/transcribe/transcribe.py:9\u001b[0m\n\u001b[1;32m      6\u001b[0m \u001b[38;5;28;01mimport\u001b[39;00m \u001b[38;5;21;01mlogging\u001b[39;00m\n\u001b[1;32m      8\u001b[0m \u001b[38;5;66;03m# current package imports\u001b[39;00m\n\u001b[0;32m----> 9\u001b[0m \u001b[38;5;28;01mfrom\u001b[39;00m \u001b[38;5;21;01m.\u001b[39;00m\u001b[38;5;21;01mwhisperx_transcriber\u001b[39;00m \u001b[38;5;28;01mimport\u001b[39;00m WhisperXTranscriber\n\u001b[1;32m     10\u001b[0m \u001b[38;5;28;01mfrom\u001b[39;00m \u001b[38;5;21;01m.\u001b[39;00m\u001b[38;5;21;01mwhisperx_transcription\u001b[39;00m \u001b[38;5;28;01mimport\u001b[39;00m WhisperXTranscription\n\u001b[1;32m     12\u001b[0m \u001b[38;5;66;03m# local package imports\u001b[39;00m\n",
      "File \u001b[0;32m~/ClipsAI/opensource/clipsai/clipsai/transcribe/whisperx_transcriber.py:14\u001b[0m\n\u001b[1;32m     12\u001b[0m \u001b[38;5;66;03m# current package imports\u001b[39;00m\n\u001b[1;32m     13\u001b[0m \u001b[38;5;28;01mfrom\u001b[39;00m \u001b[38;5;21;01m.\u001b[39;00m\u001b[38;5;21;01mexceptions\u001b[39;00m \u001b[38;5;28;01mimport\u001b[39;00m NoSpeechError\n\u001b[0;32m---> 14\u001b[0m \u001b[38;5;28;01mfrom\u001b[39;00m \u001b[38;5;21;01m.\u001b[39;00m\u001b[38;5;21;01mwhisperx_config_manager\u001b[39;00m \u001b[38;5;28;01mimport\u001b[39;00m WhisperXTranscriberConfigManager\n\u001b[1;32m     15\u001b[0m \u001b[38;5;28;01mfrom\u001b[39;00m \u001b[38;5;21;01m.\u001b[39;00m\u001b[38;5;21;01mwhisperx_transcription\u001b[39;00m \u001b[38;5;28;01mimport\u001b[39;00m WhisperXTranscription\n\u001b[1;32m     17\u001b[0m \u001b[38;5;66;03m# local imports\u001b[39;00m\n",
      "File \u001b[0;32m~/ClipsAI/opensource/clipsai/clipsai/transcribe/whisperx_config_manager.py:9\u001b[0m\n\u001b[1;32m      7\u001b[0m \u001b[38;5;66;03m# local package imports\u001b[39;00m\n\u001b[1;32m      8\u001b[0m \u001b[38;5;28;01mfrom\u001b[39;00m \u001b[38;5;21;01mutils\u001b[39;00m\u001b[38;5;21;01m.\u001b[39;00m\u001b[38;5;21;01mconfig_manager\u001b[39;00m \u001b[38;5;28;01mimport\u001b[39;00m ConfigManager\n\u001b[0;32m----> 9\u001b[0m \u001b[38;5;28;01mfrom\u001b[39;00m \u001b[38;5;21;01m.\u001b[39;00m\u001b[38;5;21;01m.\u001b[39;00m\u001b[38;5;21;01mutils\u001b[39;00m\u001b[38;5;21;01m.\u001b[39;00m\u001b[38;5;21;01mutils\u001b[39;00m \u001b[38;5;28;01mimport\u001b[39;00m find_missing_dict_keys\n\u001b[1;32m     12\u001b[0m \u001b[38;5;28;01mclass\u001b[39;00m \u001b[38;5;21;01mWhisperXTranscriberConfigManager\u001b[39;00m(ConfigManager):\n\u001b[1;32m     13\u001b[0m \u001b[38;5;250m    \u001b[39m\u001b[38;5;124;03m\"\"\"\u001b[39;00m\n\u001b[1;32m     14\u001b[0m \u001b[38;5;124;03m    A class for getting information about and validating WhisperXTranscriber\u001b[39;00m\n\u001b[1;32m     15\u001b[0m \u001b[38;5;124;03m    configuration settings.\u001b[39;00m\n\u001b[1;32m     16\u001b[0m \u001b[38;5;124;03m    \"\"\"\u001b[39;00m\n",
      "\u001b[0;31mImportError\u001b[0m: attempted relative import beyond top-level package"
     ]
    }
   ],
   "source": [
    "from transcribe.transcribe import transcribe\n",
    "\n",
    "\n",
    "\n",
    "# from clipsai.clipsai.transcribe.whisperx_transcription import WhisperXTranscription\n",
    "# from clipsai.transcribe.input_validator import InputValidator\n",
    "# from clipsai.clipsai.transcribe.transcribe import transcribe\n",
    "# from transcribe.transcribe import transcribe\n",
    "# try redoing venv and manual import\n"
   ]
  },
  {
   "cell_type": "code",
   "execution_count": 64,
   "metadata": {},
   "outputs": [
    {
     "name": "stdout",
     "output_type": "stream",
     "text": [
      "Current working directory: /Users/johannramirez/ClipsAI/opensource/clipsai/clipsai/tests\n"
     ]
    }
   ],
   "source": [
    "# print path of current directory\n",
    "# print(ROOT_PATH)\n",
    "print(\"Current working directory:\", os.getcwd())\n"
   ]
  },
  {
   "cell_type": "markdown",
   "metadata": {},
   "source": [
    "print(\"Current working directory:\", os.getcwd())"
   ]
  },
  {
   "cell_type": "code",
   "execution_count": null,
   "metadata": {},
   "outputs": [],
   "source": [
    "transcript = transcribe()"
   ]
  }
 ],
 "metadata": {
  "kernelspec": {
   "display_name": "Python 3",
   "language": "python",
   "name": "python3"
  },
  "language_info": {
   "codemirror_mode": {
    "name": "ipython",
    "version": 3
   },
   "file_extension": ".py",
   "mimetype": "text/x-python",
   "name": "python",
   "nbconvert_exporter": "python",
   "pygments_lexer": "ipython3",
   "version": "3.11.6"
  }
 },
 "nbformat": 4,
 "nbformat_minor": 2
}
