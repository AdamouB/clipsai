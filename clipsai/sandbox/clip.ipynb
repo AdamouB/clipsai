{
 "cells": [
  {
   "cell_type": "code",
   "execution_count": 1,
   "metadata": {},
   "outputs": [],
   "source": [
    "%load_ext autoreload\n",
    "%autoreload 2"
   ]
  },
  {
   "cell_type": "code",
   "execution_count": 2,
   "metadata": {},
   "outputs": [
    {
     "name": "stdout",
     "output_type": "stream",
     "text": [
      "/Users/armeltalla/Documents/CAI/SDKs/clipsai/clipsai/data\n",
      "['/Users/armeltalla/Documents/CAI/SDKs/clipsai/clipsai', '/Users/armeltalla/Documents/CAI/SDKs/clipsai/clipsai/sandbox', '/opt/homebrew/Cellar/python@3.11/3.11.4_1/Frameworks/Python.framework/Versions/3.11/lib/python311.zip', '/opt/homebrew/Cellar/python@3.11/3.11.4_1/Frameworks/Python.framework/Versions/3.11/lib/python3.11', '/opt/homebrew/Cellar/python@3.11/3.11.4_1/Frameworks/Python.framework/Versions/3.11/lib/python3.11/lib-dynload', '', '/Users/armeltalla/Documents/CAI/SDKs/clipsai/env/lib/python3.11/site-packages']\n"
     ]
    }
   ],
   "source": [
    "import sys, os\n",
    "\n",
    "DATA_PATH = os.path.abspath(os.path.join(\"..\", \"data\"))\n",
    "print(DATA_PATH)\n",
    "\n",
    "ROOT_PATH = os.path.abspath(os.path.join(\"..\", \"..\"))\n",
    "SRC_PATH = os.path.join(ROOT_PATH, \"clipsai\")\n",
    "sys.path.insert(0, SRC_PATH)\n",
    "print(sys.path)"
   ]
  }
 ],
 "metadata": {
  "kernelspec": {
   "display_name": "env",
   "language": "python",
   "name": "python3"
  },
  "language_info": {
   "codemirror_mode": {
    "name": "ipython",
    "version": 3
   },
   "file_extension": ".py",
   "mimetype": "text/x-python",
   "name": "python",
   "nbconvert_exporter": "python",
   "pygments_lexer": "ipython3",
   "version": "3.11.4"
  }
 },
 "nbformat": 4,
 "nbformat_minor": 2
}
