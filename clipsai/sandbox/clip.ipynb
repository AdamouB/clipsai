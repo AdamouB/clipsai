{
 "cells": [
  {
   "cell_type": "code",
   "execution_count": 18,
   "metadata": {},
   "outputs": [
    {
     "name": "stdout",
     "output_type": "stream",
     "text": [
      "The autoreload extension is already loaded. To reload it, use:\n",
      "  %reload_ext autoreload\n"
     ]
    }
   ],
   "source": [
    "%load_ext autoreload\n",
    "%autoreload 2"
   ]
  },
  {
   "cell_type": "code",
   "execution_count": 19,
   "metadata": {},
   "outputs": [
    {
     "name": "stdout",
     "output_type": "stream",
     "text": [
      "/Users/johannramirez/opensource/clipsai/clipsai/data\n",
      "['/Users/johannramirez/opensource/clipsai/clipsai', '/Users/johannramirez/opensource/clipsai/clipsai', '/Users/johannramirez/opensource/clipsai/clipsai/sandbox', '/opt/homebrew/Cellar/python@3.11/3.11.6_1/Frameworks/Python.framework/Versions/3.11/lib/python311.zip', '/opt/homebrew/Cellar/python@3.11/3.11.6_1/Frameworks/Python.framework/Versions/3.11/lib/python3.11', '/opt/homebrew/Cellar/python@3.11/3.11.6_1/Frameworks/Python.framework/Versions/3.11/lib/python3.11/lib-dynload', '', '/Users/johannramirez/opensource/clipsai/venv/lib/python3.11/site-packages']\n"
     ]
    }
   ],
   "source": [
    "import sys, os\n",
    "\n",
    "DATA_PATH = os.path.abspath(os.path.join(\"..\", \"data\"))\n",
    "print(DATA_PATH)\n",
    "\n",
    "ROOT_PATH = os.path.abspath(os.path.join(\"..\", \"..\"))\n",
    "SRC_PATH = os.path.join(ROOT_PATH, \"clipsai\")\n",
    "sys.path.insert(0, SRC_PATH)\n",
    "print(sys.path)"
   ]
  },
  {
   "cell_type": "markdown",
   "metadata": {},
   "source": [
    "# Transcribe"
   ]
  },
  {
   "cell_type": "code",
   "execution_count": 20,
   "metadata": {},
   "outputs": [],
   "source": [
    "from transcribe.transcribe import transcribe"
   ]
  },
  {
   "cell_type": "code",
   "execution_count": 21,
   "metadata": {},
   "outputs": [
    {
     "name": "stdout",
     "output_type": "stream",
     "text": [
      "/Users/johannramirez/opensource/clipsai/clipsai/data/testclip.mp4\n"
     ]
    }
   ],
   "source": [
    "video_file_path = os.path.join(DATA_PATH, \"testclip.mp4\")\n",
    "print(video_file_path)"
   ]
  },
  {
   "cell_type": "code",
   "execution_count": 22,
   "metadata": {},
   "outputs": [
    {
     "name": "stderr",
     "output_type": "stream",
     "text": [
      "Lightning automatically upgraded your loaded checkpoint from v1.5.4 to v2.1.3. To apply the upgrade to your files permanently, run `python -m pytorch_lightning.utilities.upgrade_checkpoint ../../../../.cache/torch/whisperx-vad-segmentation.bin`\n"
     ]
    },
    {
     "name": "stdout",
     "output_type": "stream",
     "text": [
      "No language specified, language will be first be detected for each audio file (increases inference time).\n",
      "Model was trained with pyannote.audio 0.0.1, yours is 3.1.0. Bad things might happen unless you revert pyannote.audio to 0.x.\n",
      "Model was trained with torch 1.10.0+cu102, yours is 2.1.2. Bad things might happen unless you revert torch to 1.x.\n",
      "Detected language: en (0.99) in first 30s of audio...\n"
     ]
    }
   ],
   "source": [
    "transcription = transcribe(video_file_path)"
   ]
  },
  {
   "cell_type": "code",
   "execution_count": 23,
   "metadata": {},
   "outputs": [
    {
     "name": "stdout",
     "output_type": "stream",
     "text": [
      "So I think for people you have to start thinking like is me staying up is me like not sleeping actually going to like benefit me more because if you're staying up to complete some work you're more your better off just waking up earlier that day right just knocking on in the morning what if you're just staying up to what to take talk um that's just I'm not even getting into that I'm not even going to that that's just useless like you Like every time I catch myself doing it, like I literally get so mad. I'm like, I just wasted 15 minutes staring at me. That's the same time. This is still something that almost everyone does. No, everyone does this. Ben's trying to friend this a nice way, but I'm at the point where I'm like, I'm like, Ben's more further removed from anything.\n",
      "\n"
     ]
    }
   ],
   "source": [
    "print(transcription)"
   ]
  },
  {
   "cell_type": "code",
   "execution_count": 24,
   "metadata": {},
   "outputs": [
    {
     "name": "stdout",
     "output_type": "stream",
     "text": [
      "sourceSoftware: whisperx-v3\n",
      "timeCreated: 2023-12-24 10:55:44.100758\n",
      "language: en\n",
      "numSpeakers: None\n",
      "\n"
     ]
    }
   ],
   "source": [
    "print(transcription.get_info()) "
   ]
  },
  {
   "cell_type": "markdown",
   "metadata": {},
   "source": [
    "# Clip"
   ]
  },
  {
   "cell_type": "code",
   "execution_count": 40,
   "metadata": {},
   "outputs": [],
   "source": [
    "from clip.clip import clip"
   ]
  },
  {
   "cell_type": "code",
   "execution_count": 41,
   "metadata": {},
   "outputs": [],
   "source": [
    "clip = clip(transcription)"
   ]
  },
  {
   "cell_type": "code",
   "execution_count": 42,
   "metadata": {},
   "outputs": [
    {
     "name": "stdout",
     "output_type": "stream",
     "text": [
      "[{'startTime': 0, 'endTime': 39.675, 'startChar': 0, 'endChar': 782}]\n"
     ]
    }
   ],
   "source": [
    "print(clip)"
   ]
  },
  {
   "cell_type": "code",
   "execution_count": 43,
   "metadata": {},
   "outputs": [
    {
     "name": "stderr",
     "output_type": "stream",
     "text": [
      "[nltk_data] Downloading package punkt to\n",
      "[nltk_data]     /Users/johannramirez/nltk_data...\n",
      "[nltk_data]   Package punkt is already up-to-date!\n",
      "WARNING:root:File '/Users/johannramirez/opensource/clipsai/clipsai/data/testclip.json' does not exist.\n"
     ]
    },
    {
     "data": {
      "text/plain": [
       "<filesys.json_file.JsonFile at 0x2ce40c2d0>"
      ]
     },
     "execution_count": 43,
     "metadata": {},
     "output_type": "execute_result"
    }
   ],
   "source": [
    "transcription.store_as_json_file(os.path.join(DATA_PATH, \"testclip.json\"))"
   ]
  },
  {
   "cell_type": "code",
   "execution_count": 44,
   "metadata": {},
   "outputs": [
    {
     "name": "stderr",
     "output_type": "stream",
     "text": [
      "WARNING:root:File '/Users/johannramirez/opensource/clipsai/clipsai/data/testclip.pdf' does not exist.\n"
     ]
    },
    {
     "data": {
      "text/plain": [
       "<filesys.pdf_file.PdfFile at 0x2bd774550>"
      ]
     },
     "execution_count": 44,
     "metadata": {},
     "output_type": "execute_result"
    }
   ],
   "source": [
    "transcription.store_as_pdf_file(os.path.join(DATA_PATH, \"testclip.pdf\"))"
   ]
  },
  {
   "cell_type": "code",
   "execution_count": 45,
   "metadata": {},
   "outputs": [
    {
     "name": "stderr",
     "output_type": "stream",
     "text": [
      "[nltk_data] Downloading package punkt to\n",
      "[nltk_data]     /Users/johannramirez/nltk_data...\n",
      "[nltk_data]   Package punkt is already up-to-date!\n",
      "WARNING:root:File '/Users/johannramirez/opensource/clipsai/clipsai/data/testclip.srt' does not exist.\n"
     ]
    },
    {
     "data": {
      "text/plain": [
       "<filesys.srt_file.SrtFile at 0x2be2e3ad0>"
      ]
     },
     "execution_count": 45,
     "metadata": {},
     "output_type": "execute_result"
    }
   ],
   "source": [
    "transcription.store_as_srt_file(os.path.join(DATA_PATH, \"testclip.srt\"))"
   ]
  }
 ],
 "metadata": {
  "kernelspec": {
   "display_name": "env",
   "language": "python",
   "name": "python3"
  },
  "language_info": {
   "codemirror_mode": {
    "name": "ipython",
    "version": 3
   },
   "file_extension": ".py",
   "mimetype": "text/x-python",
   "name": "python",
   "nbconvert_exporter": "python",
   "pygments_lexer": "ipython3",
   "version": "3.11.6"
  }
 },
 "nbformat": 4,
 "nbformat_minor": 2
}
